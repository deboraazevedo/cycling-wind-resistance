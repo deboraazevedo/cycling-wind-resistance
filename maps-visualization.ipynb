{
 "cells": [
  {
   "cell_type": "markdown",
   "metadata": {},
   "source": [
    "# Programming Project - Unit 2\n",
    "*by Débora Azevedo, Eliseu Jayro, Francisco de Paiva and Igor Brandão*\n",
    "\n",
    "**Goals**\n",
    "The purpose of this project is explore the following:\n",
    "\n",
    "- Access Health Graph API - Runkeeper content;\n",
    "- Geolocation analysis and hypotheses should be explained in detail;"
   ]
  },
  {
   "cell_type": "markdown",
   "metadata": {},
   "source": [
    "<hr>"
   ]
  },
  {
   "cell_type": "markdown",
   "metadata": {},
   "source": [
    "# Global Imports section\n",
    "\n",
    "Import the necessary libraries to handle \n",
    "\n",
    "- Geocoding;\n",
    "- Maps;\n",
    "- File input;\n",
    "- Heatmap;\n",
    "- Numpy library;\n",
    "- Tqdm progress bar"
   ]
  },
  {
   "cell_type": "code",
   "execution_count": null,
   "metadata": {},
   "outputs": [],
   "source": [
    "### Library necessary to run this IPython Notebook\n",
    "!pip install geocoder\n",
    "!pip install folium\n",
    "!pip install tqdm\n",
    "!pip install tabulate\n",
    "!pip install pandas-datareader\n",
    "!pip install requests"
   ]
  },
  {
   "cell_type": "code",
   "execution_count": null,
   "metadata": {},
   "outputs": [],
   "source": [
    "# Import pandas\n",
    "import pandas as pd\n",
    "\n",
    "# Import json\n",
    "import json\n",
    "\n",
    "# Import google geocoder\n",
    "import geocoder as gc\n",
    "\n",
    "# Import numpy library\n",
    "import numpy as np\n",
    "\n",
    "# Import folium maps\n",
    "import os\n",
    "import folium\n",
    "from folium import plugins\n",
    "\n",
    "# Import tqdm progressing bar plugin\n",
    "from tqdm import tqdm"
   ]
  },
  {
   "cell_type": "markdown",
   "metadata": {},
   "source": [
    "<hr>"
   ]
  },
  {
   "cell_type": "markdown",
   "metadata": {},
   "source": [
    "# I - Maps section"
   ]
  },
  {
   "cell_type": "markdown",
   "metadata": {},
   "source": [
    "## Geolocation data import [optional]"
   ]
  },
  {
   "cell_type": "code",
   "execution_count": null,
   "metadata": {},
   "outputs": [],
   "source": [
    "# Import the geolocation.csv data: data\n",
    "geolocation_data = pd.read_csv(\"geolocation.csv\", encoding = 'latin2')"
   ]
  },
  {
   "cell_type": "markdown",
   "metadata": {},
   "source": [
    "### Coordinate groupping\n",
    "\n",
    "The cell below perform the latitude/longitude reading and count all og them to know if there are repetitions and group *[latitude, longitude, count]* data into the coordinate array"
   ]
  },
  {
   "cell_type": "code",
   "execution_count": null,
   "metadata": {},
   "outputs": [],
   "source": [
    "# =================================================================================\n",
    "# Data adjusts\n",
    "# =================================================================================\n",
    "\n",
    "# Count the same latitude/longitude occurrences\n",
    "geodata = geolocation_data.groupby(['longitude', 'latitude']).size().reset_index().rename(columns={0:'count'})\n",
    "\n",
    "# =================================================================================\n",
    "# Add the coordinates\n",
    "# =================================================================================\n",
    "\n",
    "# Initialize the coordinates array\n",
    "coordinates = []\n",
    "\n",
    "# Add the coordinates to the coordinate\n",
    "for i in tqdm(range(len(geodata))):\n",
    "    # eliminate items with'nan' element\n",
    "    if all(~np.isnan([geodata.loc[geodata.index[i],'latitude'], geodata.loc[geodata.index[i],'longitude']])):\n",
    "        coordinates.append([geodata.loc[geodata.index[i],'latitude'], geodata.loc[geodata.index[i],'longitude'], \n",
    "                            geodata.loc[geodata.index[i],'count']])\n",
    "\n",
    "# Display the imported coordinates\n",
    "coordinates"
   ]
  },
  {
   "cell_type": "markdown",
   "metadata": {},
   "source": [
    "## Add the coordinates to the maps [required]"
   ]
  },
  {
   "cell_type": "code",
   "execution_count": 29,
   "metadata": {},
   "outputs": [],
   "source": [
    "# =================================================================================\n",
    "# Map settings\n",
    "# =================================================================================\n",
    "\n",
    "# Set map center and zoom level\n",
    "mapc = [-5.788, -35.202]\n",
    "zoom = 11\n",
    "\n",
    "# Wind rose\n",
    "url = ('https://raw.githubusercontent.com/SECOORA/static_assets/'\n",
    "       'master/maps/img/rose.png')\n",
    "\n",
    "# Create HeatMap instance\n",
    "htMap = folium.Map(location=mapc, zoom_start=zoom, tiles='OpenStreetMap')\n",
    "\n",
    "# Create marker map instance\n",
    "mkMap = folium.Map(location=mapc, zoom_start=zoom, tiles='OpenStreetMap')\n",
    "\n",
    "# Create circle marker map instance\n",
    "circMap = folium.Map(location=mapc, zoom_start=zoom, tiles='OpenStreetMap')\n",
    "\n",
    "# Chunk size\n",
    "chunksize = 10 ** 8 # can be changed\n",
    "\n",
    "# For item i in a range that is a length of l,\n",
    "for i in range(0, len(coordinates), chunksize):\n",
    "    # Append the coordinates to the Heat Map\n",
    "    plugins.HeatMap(coordinates[i:i+chunksize]).add_to(htMap)\n",
    "    plugins.FloatImage(url, bottom=5, left=75).add_to(htMap)\n",
    "    \n",
    "    # Append the coordinates to Marker Map\n",
    "    plugins.MarkerCluster(coordinates[i:i+chunksize]).add_to(mkMap)\n",
    "    plugins.FloatImage(url, bottom=5, left=75).add_to(htMap)"
   ]
  },
  {
   "cell_type": "markdown",
   "metadata": {
    "collapsed": true
   },
   "source": [
    "## 1) Heat Map"
   ]
  },
  {
   "cell_type": "code",
   "execution_count": null,
   "metadata": {},
   "outputs": [],
   "source": [
    "# Print the heatMap\n",
    "htMap"
   ]
  },
  {
   "cell_type": "markdown",
   "metadata": {},
   "source": [
    "## 2) Cluster Map"
   ]
  },
  {
   "cell_type": "code",
   "execution_count": null,
   "metadata": {},
   "outputs": [],
   "source": [
    "# Print the cluster map\n",
    "mkMap"
   ]
  },
  {
   "cell_type": "markdown",
   "metadata": {},
   "source": [
    "## 3) With Natal Neighborhoods"
   ]
  },
  {
   "cell_type": "code",
   "execution_count": null,
   "metadata": {},
   "outputs": [],
   "source": [
    "# import geojson file about natal neighborhoods\n",
    "natal_neigh = os.path.join('geojson', 'natal.geojson')\n",
    "\n",
    "# load the data and use 'UTF-8'encoding\n",
    "geo_json_natal = json.load(open(natal_neigh,encoding='UTF-8'))"
   ]
  },
  {
   "cell_type": "code",
   "execution_count": null,
   "metadata": {},
   "outputs": [],
   "source": [
    "# print the keys of the dictionary\n",
    "print(geo_json_natal.keys())\n",
    "# print the list of features (neighborhoods)\n",
    "geo_json_natal['features']"
   ]
  },
  {
   "cell_type": "code",
   "execution_count": null,
   "metadata": {},
   "outputs": [],
   "source": [
    "neighborhood = []\n",
    "# list all neighborhoods\n",
    "for neigh in geo_json_natal['features']:\n",
    "        neighborhood.append(neigh['properties']['name'])"
   ]
  },
  {
   "cell_type": "markdown",
   "metadata": {},
   "source": [
    "### 3.1) Heatmap with Natal neighborhoods"
   ]
  },
  {
   "cell_type": "code",
   "execution_count": null,
   "metadata": {},
   "outputs": [],
   "source": [
    "# Create new map instance\n",
    "htMapNeighborhood = htMap\n",
    "\n",
    "# Configure geojson layer\n",
    "folium.GeoJson(geo_json_natal).add_to(htMapNeighborhood)\n",
    "\n",
    "# print the map\n",
    "htMapNeighborhood"
   ]
  },
  {
   "cell_type": "markdown",
   "metadata": {},
   "source": [
    "## 4) Choropleth map"
   ]
  },
  {
   "cell_type": "code",
   "execution_count": null,
   "metadata": {},
   "outputs": [],
   "source": []
  }
 ],
 "metadata": {
  "kernelspec": {
   "display_name": "Python 3",
   "language": "python",
   "name": "python3"
  },
  "language_info": {
   "codemirror_mode": {
    "name": "ipython",
    "version": 3
   },
   "file_extension": ".py",
   "mimetype": "text/x-python",
   "name": "python",
   "nbconvert_exporter": "python",
   "pygments_lexer": "ipython3",
   "version": "3.7.0"
  }
 },
 "nbformat": 4,
 "nbformat_minor": 2
}
