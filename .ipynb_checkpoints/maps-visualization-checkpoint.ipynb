{
 "cells": [
  {
   "cell_type": "markdown",
   "metadata": {},
   "source": [
    "# Programming Project - Unit 2\n",
    "*by Débora Azevedo, Eliseu Jayro, Francisco de Paiva and Igor Brandão*\n",
    "\n",
    "**Goals**\n",
    "The purpose of this project is explore the following:\n",
    "\n",
    "- Access Health Graph API - Runkeeper content;\n",
    "- Geolocation analysis and hypotheses should be explained in detail;"
   ]
  },
  {
   "cell_type": "markdown",
   "metadata": {},
   "source": [
    "<hr>"
   ]
  },
  {
   "cell_type": "markdown",
   "metadata": {},
   "source": [
    "# Global Imports section\n",
    "\n",
    "Import the necessary libraries to handle \n",
    "\n",
    "- Geocoding;\n",
    "- Maps;\n",
    "- File input;\n",
    "- Heatmap;\n",
    "- Numpy library;\n",
    "- Tqdm progress bar"
   ]
  },
  {
   "cell_type": "code",
   "execution_count": null,
   "metadata": {},
   "outputs": [],
   "source": [
    "### Library necessary to run this IPython Notebook\n",
    "!pip install geocoder\n",
    "!pip install folium\n",
    "!pip install tqdm\n",
    "!pip install tabulate\n",
    "!pip install pandas-datareader"
   ]
  },
  {
   "cell_type": "code",
   "execution_count": null,
   "metadata": {},
   "outputs": [],
   "source": [
    "# Import pandas\n",
    "import pandas as pd\n",
    "\n",
    "# Import google geocoder\n",
    "import geocoder as gc\n",
    "\n",
    "# Import numpy library\n",
    "import numpy as np\n",
    "\n",
    "# Import folium heatmap\n",
    "import folium\n",
    "from folium.plugins import HeatMap\n",
    "\n",
    "# Import tqdm progressing bar plugin\n",
    "from tqdm import tqdm"
   ]
  },
  {
   "cell_type": "markdown",
   "metadata": {},
   "source": [
    "<hr>"
   ]
  },
  {
   "cell_type": "markdown",
   "metadata": {},
   "source": [
    "# I - Maps section"
   ]
  },
  {
   "cell_type": "markdown",
   "metadata": {},
   "source": [
    "## Geolocation data import [optional]"
   ]
  },
  {
   "cell_type": "code",
   "execution_count": null,
   "metadata": {},
   "outputs": [],
   "source": [
    "# Import the fertility.csv data: data\n",
    "geolocation_data = pd.read_csv(\"geolocation.csv\", encoding = 'latin2')"
   ]
  },
  {
   "cell_type": "markdown",
   "metadata": {},
   "source": [
    "### Coordinate groupping\n",
    "\n",
    "The cell below perform the latitude/longitude reading and count all og them to know if there are repetitions and group *[latitude, longitude, count]* data into the coordinate array"
   ]
  },
  {
   "cell_type": "code",
   "execution_count": null,
   "metadata": {},
   "outputs": [],
   "source": [
    "# =================================================================================\n",
    "# Data adjusts\n",
    "# =================================================================================\n",
    "\n",
    "# Count the same latitude/longitude occurrences\n",
    "geodata = geolocation_data.groupby(['longitude', 'latitude']).size().reset_index().rename(columns={0:'count'})\n",
    "\n",
    "# =================================================================================\n",
    "# Add the coordinates\n",
    "# =================================================================================\n",
    "\n",
    "# Initialize the coordinates array\n",
    "coordinates = []\n",
    "\n",
    "# Add the coordinates to the coordinate\n",
    "for i in tqdm(range(len(geodata))):\n",
    "    # eliminate items with'nan' element\n",
    "    if all(~np.isnan([geodata.loc[geodata.index[i],'latitude'], geodata.loc[geodata.index[i],'longitude'], geodata.loc[geodata.index[i],'count']])):\n",
    "        coordinates.append([geodata.loc[geodata.index[i],'latitude'], geodata.loc[geodata.index[i],'longitude'], geodata.loc[geodata.index[i],'count']])\n",
    "\n",
    "# Display the imported coordinates\n",
    "coordinates"
   ]
  },
  {
   "cell_type": "markdown",
   "metadata": {},
   "source": [
    "## 1) Heatmap"
   ]
  },
  {
   "cell_type": "code",
   "execution_count": null,
   "metadata": {},
   "outputs": [],
   "source": [
    "# =================================================================================\n",
    "# Heatmap generation\n",
    "# =================================================================================\n",
    "\n",
    "# Set map center and zoom level\n",
    "mapc = [-5.788, -35.202]\n",
    "zoom = 11\n",
    "\n",
    "# Create map object\n",
    "htMap = folium.Map(location=mapc, zoom_start=zoom)\n",
    "\n",
    "# Append the coordinates to the heatMap\n",
    "HeatMap(coordinates).add_to(htMap)\n",
    "\n",
    "# Print the heatMap\n",
    "htMap"
   ]
  },
  {
   "cell_type": "markdown",
   "metadata": {},
   "source": [
    "### 1.1) Heatmap by activity"
   ]
  },
  {
   "cell_type": "code",
   "execution_count": null,
   "metadata": {
    "scrolled": false
   },
   "outputs": [],
   "source": [
    "# =================================================================================\n",
    "# API single activity request\n",
    "# =================================================================================\n",
    "\n",
    "# Copy the data\n",
    "single_geolocation_data = pd.DataFrame()\n",
    "\n",
    "# Base URI\n",
    "activity_id = 902920684\n",
    "\n",
    "activity_base_URI = \"http://api.runkeeper.com/fitnessActivities/\"\n",
    "\n",
    "# Final activity URI\n",
    "single_activity_url = activity_base_URI + str(activity_id) + \"?access_token=\" + ACCESS_TOKEN\n",
    "\n",
    "# Receive the results from API\n",
    "single_activity_content = requests.get(single_activity_url).json()\n",
    "\n",
    "# Perform a conversion from JSON to Data Frame\n",
    "single_activity_df = json_normalize(single_activity_content['path'])\n",
    "\n",
    "# Add the activity path data to geolocation\n",
    "single_geolocation_data = pd.concat([single_geolocation_data, single_activity_df])\n",
    "\n",
    "# =================================================================================\n",
    "# Data adjusts\n",
    "# =================================================================================\n",
    "\n",
    "# Count the same latitude/longitude occurrences\n",
    "single_geodata = single_geolocation_data.groupby(['longitude', 'latitude']).size().reset_index().rename(columns={0:'count'})\n",
    "\n",
    "# =================================================================================\n",
    "# Heatmap generation\n",
    "# =================================================================================\n",
    "\n",
    "# Set map center and zoom level\n",
    "mapc = [-5.788, -35.202]\n",
    "zoom = 11\n",
    "\n",
    "# Initialize the coordinates array\n",
    "coordinates = []\n",
    "\n",
    "# Add the coordinates to the coordinate\n",
    "for i in tqdm(range(len(single_geodata))):\n",
    "    # eliminate items with'nan' element\n",
    "    if all(~np.isnan([single_geodata.ix[i,'latitude'], single_geodata.ix[i,'longitude'], single_geodata.ix[i,'count']])):\n",
    "        coordinates.append([single_geodata.ix[i,'latitude'], single_geodata.ix[i,'longitude'], single_geodata.ix[i,'count']])\n",
    "\n",
    "# Create map object\n",
    "htMap = folium.Map(location=mapc, zoom_start=zoom)\n",
    "\n",
    "# Append the coordinates to the heatMap\n",
    "HeatMap(coordinates).add_to(htMap)\n",
    "\n",
    "# ==========================================================\n",
    "# Display activites summary\n",
    "# ==========================================================\n",
    "display(Markdown('## Activity summary'))\n",
    "\n",
    "display(Markdown('** Activity type:** ' + str(single_activity_content['type'])))\n",
    "\n",
    "display(Markdown('** Datetime:** ' + str(single_activity_content['start_time'])))\n",
    "\n",
    "distance = (single_activity_content['total_distance'])/1000\n",
    "display(Markdown('** Total distance:** ' + str(\"%.2f\" % distance) + ' km'))\n",
    "\n",
    "climb = (single_activity_content['climb'])\n",
    "display(Markdown('** Total climb:** ' + str(\"%.2f\" % climb) + ' mts'))\n",
    "\n",
    "htMap"
   ]
  },
  {
   "cell_type": "markdown",
   "metadata": {
    "collapsed": true
   },
   "source": [
    "## 2) Map markers"
   ]
  },
  {
   "cell_type": "code",
   "execution_count": null,
   "metadata": {},
   "outputs": [],
   "source": [
    "# =================================================================================\n",
    "# Data adjusts\n",
    "# =================================================================================\n",
    "\n",
    "# Count the same latitude/longitude occurrences\n",
    "geodata = geolocation_data.groupby(['longitude', 'latitude']).size().reset_index().rename(columns={0:'count'})\n",
    "\n",
    "# =================================================================================\n",
    "# Map markers generation\n",
    "# =================================================================================\n",
    "\n",
    "# Set map center and zoom level\n",
    "mapc = [-5.788, -35.202]\n",
    "zoom = 11\n",
    "\n",
    "# For speed purposes\n",
    "MAX_RECORDS = 2000\n",
    "\n",
    "# Create map object\n",
    "map_activities = folium.Map(location=mapc, zoom_start=zoom)\n",
    "\n",
    "marker_cluster = folium.MarkerCluster(\"Activities\").add_to(map_activities)\n",
    "\n",
    "# Add the coordinates to the coordinate\n",
    "for i in tqdm(range(len(geodata))):\n",
    "    \n",
    "    if i == MAX_RECORDS:\n",
    "        break;\n",
    "    \n",
    "    # eliminate items with'nan' element\n",
    "    if all(~np.isnan([geodata.ix[i,'latitude'], geodata.ix[i,'longitude']])):\n",
    "        folium.Marker(location = [geodata.ix[i,'latitude'],geodata.ix[i,'longitude']]).add_to(marker_cluster)\n",
    "\n",
    "# Show the map\n",
    "map_activities"
   ]
  }
 ],
 "metadata": {
  "kernelspec": {
   "display_name": "Python 2",
   "language": "python",
   "name": "python2"
  },
  "language_info": {
   "codemirror_mode": {
    "name": "ipython",
    "version": 2
   },
   "file_extension": ".py",
   "mimetype": "text/x-python",
   "name": "python",
   "nbconvert_exporter": "python",
   "pygments_lexer": "ipython2",
   "version": "2.7.15"
  }
 },
 "nbformat": 4,
 "nbformat_minor": 2
}
